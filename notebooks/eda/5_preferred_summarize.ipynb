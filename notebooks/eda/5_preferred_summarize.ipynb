{
 "cells": [
  {
   "cell_type": "markdown",
   "id": "369a9bcb",
   "metadata": {},
   "source": [
    "재래종 꿀벌과 서양종 꿀벌이 선호하는 밀원 분류별로 발생두수(개체 수의 총합)"
   ]
  },
  {
   "cell_type": "code",
   "execution_count": 1,
   "id": "25ec3247",
   "metadata": {},
   "outputs": [],
   "source": [
    "import pandas as pd"
   ]
  },
  {
   "cell_type": "code",
   "execution_count": 3,
   "id": "be7d39f0",
   "metadata": {},
   "outputs": [],
   "source": [
    "cer = pd.read_csv(\"../../data/final/4_Apis_cerana.csv\", encoding=\"utf-8-sig\")\n",
    "mel = pd.read_csv(\"../../data/final/4_Apis_mellifera.csv\", encoding=\"utf-8-sig\")"
   ]
  },
  {
   "cell_type": "code",
   "execution_count": null,
   "id": "2a29903d",
   "metadata": {},
   "outputs": [],
   "source": [
    "cerana_preferred = {'밤나무', '산밤나무', '약밤나무', '배추', '유채', '머귀나무',\n",
    "                    '왕초피', '초피나무', '산초나무', '벼', '피마자'}\n",
    "\n",
    "mellifera_preferred = {'족제비싸리', '아까지나무', '갈참나무', '굴참나무', '떡갈나무', '종가시나무',\n",
    "                       '물참나무', '상수리나무', '신갈나무', '졸참나무', '가시나무', '붉가시나무',\n",
    "                       '갈졸참나무', '떡갈참나무', '떡신갈나무', '주름잎', '누운주름잎', '덩굴장미',\n",
    "                       '목향장미', '생열귀나무', '용가시나무', '인가목', '해당화', '고추', '애기똥풀'}\n",
    "\n",
    "common_preferred = {'다래', '쥐다래', '개다래', '섬다래',\n",
    "                    '감나무', '고욤나무', '개옺나무', '검양옺나무', '산검양옺나무',\n",
    "                    '옺나무', '붉나무', '광대싸리'}\n",
    "\n",
    "def categorize_milwon(종):\n",
    "    if 종 in cerana_preferred:\n",
    "        return '재래종 선호'\n",
    "    elif 종 in mellifera_preferred:\n",
    "        return '서양종 선호'\n",
    "    elif 종 in common_preferred:\n",
    "        return '공통 선호'\n",
    "    else:\n",
    "        return '기타'\n",
    "\n",
    "cer['밀원분류'] = cer['종'].apply(categorize_milwon)\n",
    "mel['밀원분류'] = mel['종'].apply(categorize_milwon)\n",
    "\n",
    "cerana_summary = cer.groupby('밀원분류')['발생두수'].sum().reset_index(name='재래종_발생두수')\n",
    "mellifera_summary = mel.groupby('밀원분류')['발생두수'].sum().reset_index(name='서양종_발생두수')\n",
    "\n",
    "summary_df = pd.merge(cerana_summary, mellifera_summary, on='밀원분류', how='outer').fillna(0)"
   ]
  },
  {
   "cell_type": "code",
   "execution_count": 5,
   "id": "8e07d25d",
   "metadata": {},
   "outputs": [
    {
     "data": {
      "text/html": [
       "<div>\n",
       "<style scoped>\n",
       "    .dataframe tbody tr th:only-of-type {\n",
       "        vertical-align: middle;\n",
       "    }\n",
       "\n",
       "    .dataframe tbody tr th {\n",
       "        vertical-align: top;\n",
       "    }\n",
       "\n",
       "    .dataframe thead th {\n",
       "        text-align: right;\n",
       "    }\n",
       "</style>\n",
       "<table border=\"1\" class=\"dataframe\">\n",
       "  <thead>\n",
       "    <tr style=\"text-align: right;\">\n",
       "      <th></th>\n",
       "      <th>밀원분류</th>\n",
       "      <th>재래종_발생두수</th>\n",
       "      <th>서양종_발생두수</th>\n",
       "    </tr>\n",
       "  </thead>\n",
       "  <tbody>\n",
       "    <tr>\n",
       "      <th>0</th>\n",
       "      <td>공통 선호</td>\n",
       "      <td>5475</td>\n",
       "      <td>2946</td>\n",
       "    </tr>\n",
       "    <tr>\n",
       "      <th>1</th>\n",
       "      <td>기타</td>\n",
       "      <td>1314</td>\n",
       "      <td>1182</td>\n",
       "    </tr>\n",
       "    <tr>\n",
       "      <th>2</th>\n",
       "      <td>서양종 선호</td>\n",
       "      <td>5254</td>\n",
       "      <td>6156</td>\n",
       "    </tr>\n",
       "    <tr>\n",
       "      <th>3</th>\n",
       "      <td>재래종 선호</td>\n",
       "      <td>815</td>\n",
       "      <td>767</td>\n",
       "    </tr>\n",
       "  </tbody>\n",
       "</table>\n",
       "</div>"
      ],
      "text/plain": [
       "     밀원분류  재래종_발생두수  서양종_발생두수\n",
       "0   공통 선호      5475      2946\n",
       "1      기타      1314      1182\n",
       "2  서양종 선호      5254      6156\n",
       "3  재래종 선호       815       767"
      ]
     },
     "execution_count": 5,
     "metadata": {},
     "output_type": "execute_result"
    }
   ],
   "source": [
    "summary_df"
   ]
  },
  {
   "cell_type": "markdown",
   "id": "a1d93edb",
   "metadata": {},
   "source": [
    "두 축종의 발생두수는 특정 밀원 분류에 따라 일부 차이는 있지만, 극명한 선호 차이로 인해 발생두수에 큰 영향을 미친다고 보기는 어렵다.\n",
    "\n",
    "(전체 밀원을 고려하지 않고, 가장 가까운 밀원만 본 점이 영향을 미쳤을 수...)"
   ]
  }
 ],
 "metadata": {
  "kernelspec": {
   "display_name": "bee_env",
   "language": "python",
   "name": "python3"
  },
  "language_info": {
   "codemirror_mode": {
    "name": "ipython",
    "version": 3
   },
   "file_extension": ".py",
   "mimetype": "text/x-python",
   "name": "python",
   "nbconvert_exporter": "python",
   "pygments_lexer": "ipython3",
   "version": "3.13.3"
  }
 },
 "nbformat": 4,
 "nbformat_minor": 5
}

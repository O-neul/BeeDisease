{
 "cells": [
  {
   "cell_type": "code",
   "execution_count": null,
   "metadata": {},
   "outputs": [],
   "source": [
    "import pandas as pd\n",
    "import numpy as np\n",
    "\n",
    "bee1 = pd.read_csv('../../data/processed/3_SBV_ID.csv')\n",
    "tree1 = pd.read_csv('../../data/processed/3_Floral_Source_ID.csv')"
   ]
  },
  {
   "cell_type": "code",
   "execution_count": null,
   "metadata": {},
   "outputs": [],
   "source": [
    "merged_data = bee1.merge(tree1[['ID', '종', '카운트']], on='ID', how='left')\n",
    "\n",
    "merged_data.to_csv('../../data/processed/4_merged_ID.csv', index=False, encoding='utf-8-sig')"
   ]
  },
  {
   "cell_type": "code",
   "execution_count": null,
   "metadata": {},
   "outputs": [],
   "source": [
    "Apis_cerana_data = merged_data[merged_data['축종'] == '벌-재래종']\n",
    "Apis_mellifera_data = merged_data[merged_data['축종'] == '벌-개량종']\n",
    "\n",
    "\n",
    "Apis_cerana_data.to_csv('../../data/final/4_Apis_cerana.csv', index=False, encoding='utf-8-sig')\n",
    "Apis_mellifera_data.to_csv('../../data/final/4_Apis_mellifera.csv', index=False, encoding='utf-8-sig')"
   ]
  }
 ],
 "metadata": {
  "kernelspec": {
   "display_name": "Python 3",
   "language": "python",
   "name": "python3"
  },
  "language_info": {
   "codemirror_mode": {
    "name": "ipython",
    "version": 3
   },
   "file_extension": ".py",
   "mimetype": "text/x-python",
   "name": "python",
   "nbconvert_exporter": "python",
   "pygments_lexer": "ipython3",
   "version": "3.13.3"
  }
 },
 "nbformat": 4,
 "nbformat_minor": 2
}

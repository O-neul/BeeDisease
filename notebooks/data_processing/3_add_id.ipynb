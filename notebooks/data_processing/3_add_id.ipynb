{
 "cells": [
  {
   "cell_type": "code",
   "execution_count": 27,
   "metadata": {},
   "outputs": [
    {
     "name": "stderr",
     "output_type": "stream",
     "text": [
      "Matching Bees to Trees: 100%|██████████| 1319/1319 [00:00<00:00, 10211.39bee/s]\n"
     ]
    }
   ],
   "source": [
    "import pandas as pd\n",
    "import numpy as np\n",
    "from tqdm import tqdm  # tqdm 추가\n",
    "\n",
    "bee = pd.read_csv('../../data/processed/SBV_filtered.csv')\n",
    "tree = pd.read_csv('../../data/processed/Floral_Source_count.csv', encoding='euc-kr')\n",
    "\n",
    "bee1 = bee.copy()\n",
    "tree1 = tree.copy()\n",
    "\n",
    "tree1['ID'] = range(1, len(tree1) + 1)\n",
    "bee1['ID'] = 0\n",
    "\n",
    "bee_coords = bee[['Latitude', 'Longitude']].to_numpy()\n",
    "tree_coords = tree[['경도', '위도']].to_numpy()\n",
    "\n",
    "# tqdm으로 진행률 표시\n",
    "for i, bee_point in enumerate(tqdm(bee_coords, desc=\"Matching Bees to Trees\", unit=\"bee\")):\n",
    "    distances = np.sqrt(np.sum((tree_coords - bee_point) ** 2, axis=1))\n",
    "    closest_tree_idx = np.argmin(distances)\n",
    "    bee1.loc[i, 'ID'] = tree1.loc[closest_tree_idx, 'ID']\n",
    "\n",
    "bee1.to_csv('../../data/processed/SBV_ID.csv', index=False, encoding='utf-8-sig')\n",
    "tree1.to_csv('../../data/processed/Floral_Source_ID.csv', index=False, encoding='utf-8-sig')"
   ]
  },
  {
   "cell_type": "code",
   "execution_count": 28,
   "metadata": {},
   "outputs": [
    {
     "name": "stdout",
     "output_type": "stream",
     "text": [
      "    Latitude   Longitude     축종  발생두수    ID\n",
      "0  36.740386  129.198325  벌-재래종     7  6692\n",
      "1  36.718109  129.246274  벌-재래종     3  5621\n",
      "2  38.145364  128.133598  벌-재래종     4   648\n",
      "3  36.153339  128.604167  벌-개량종    20  7171\n",
      "4  36.478507  129.167912  벌-재래종   107  2743\n",
      "       종          위도         경도  카운트  ID\n",
      "0   가시나무  126.191617  34.284933    1   1\n",
      "1   가시나무  126.198840  34.282386    1   2\n",
      "2   가시나무  127.454917  34.956614    1   3\n",
      "3  갈졸참나무  124.719528  37.965389    1   4\n",
      "4  갈졸참나무  127.245886  37.505239    1   5\n"
     ]
    }
   ],
   "source": [
    "print(bee1.head(5))\n",
    "print(tree1.head(5))"
   ]
  }
 ],
 "metadata": {
  "kernelspec": {
   "display_name": "bee_env",
   "language": "python",
   "name": "python3"
  },
  "language_info": {
   "codemirror_mode": {
    "name": "ipython",
    "version": 3
   },
   "file_extension": ".py",
   "mimetype": "text/x-python",
   "name": "python",
   "nbconvert_exporter": "python",
   "pygments_lexer": "ipython3",
   "version": "3.13.3"
  }
 },
 "nbformat": 4,
 "nbformat_minor": 2
}

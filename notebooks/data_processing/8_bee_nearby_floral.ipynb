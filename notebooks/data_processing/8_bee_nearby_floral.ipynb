{
 "cells": [
  {
   "cell_type": "code",
   "execution_count": 1,
   "id": "1ec8e618",
   "metadata": {},
   "outputs": [],
   "source": [
    "import pandas as pd"
   ]
  },
  {
   "cell_type": "code",
   "execution_count": 8,
   "id": "8137ea6a",
   "metadata": {},
   "outputs": [],
   "source": [
    "df_cerana = pd.read_csv(\"../../data/final/6_Apis_cerana_with_nearby.csv\")\n",
    "df_mellifera = pd.read_csv(\"../../data/final/6_Apis_mellifera_with_nearby.csv\")\n",
    "df_floral = pd.read_csv(\"../../data/processed/3_Floral_Source_ID.csv\")"
   ]
  },
  {
   "cell_type": "code",
   "execution_count": null,
   "id": "662534e6",
   "metadata": {},
   "outputs": [],
   "source": [
    "id_to_species = df_floral.set_index('ID')['종'].to_dict()\n",
    "\n",
    "nearby_cols = [col for col in df_cerana.columns if col.startswith('nearby_')]\n",
    "\n",
    "for col in nearby_cols:\n",
    "    df_cerana[col] = df_cerana[col].map(id_to_species)\n",
    "\n",
    "\n",
    "df_cerana.to_csv(\"../../data/final/8_Apis_cerana_with_nearby_species.csv\", index=False, encoding='utf-8-sig')"
   ]
  },
  {
   "cell_type": "code",
   "execution_count": 9,
   "id": "dd8cc5f7",
   "metadata": {},
   "outputs": [],
   "source": [
    "id_to_species = df_floral.set_index('ID')['종'].to_dict()\n",
    "nearby_cols = [col for col in df_mellifera.columns if col.startswith('nearby_')]\n",
    "\n",
    "for col in nearby_cols:\n",
    "    df_mellifera[col] = df_mellifera[col].map(id_to_species)\n",
    "\n",
    "df_mellifera.to_csv(\"../../data/final/8_Apis_mellifera_with_nearby_species.csv\", index=False, encoding='utf-8-sig')"
   ]
  }
 ],
 "metadata": {
  "kernelspec": {
   "display_name": "bee_env",
   "language": "python",
   "name": "python3"
  },
  "language_info": {
   "codemirror_mode": {
    "name": "ipython",
    "version": 3
   },
   "file_extension": ".py",
   "mimetype": "text/x-python",
   "name": "python",
   "nbconvert_exporter": "python",
   "pygments_lexer": "ipython3",
   "version": "3.13.3"
  }
 },
 "nbformat": 4,
 "nbformat_minor": 5
}

{
 "cells": [
  {
   "cell_type": "markdown",
   "id": "003929aa",
   "metadata": {},
   "source": [
    "각 군집의 6km 이내 이웃 군집 탐색탐색"
   ]
  },
  {
   "cell_type": "code",
   "execution_count": 1,
   "id": "3c79be93",
   "metadata": {},
   "outputs": [],
   "source": [
    "import pandas as pd"
   ]
  },
  {
   "cell_type": "code",
   "execution_count": 2,
   "id": "971a42a3",
   "metadata": {},
   "outputs": [],
   "source": [
    "def analyze_species_similarity(df, nearby_df):\n",
    "    \"\"\"\n",
    "    각 군집이 6km 이내 이웃 군집들과 같은 '종' 값을 공유하는지 분석.\n",
    "\n",
    "    Args:\n",
    "        df (pd.DataFrame): 원본 데이터 (ID, 종 포함)\n",
    "        nearby_df (pd.DataFrame): find_nearby_rows_optimized의 출력 결과\n",
    "\n",
    "    Returns:\n",
    "        pd.DataFrame: ID별로 근접 군집 수, 동일 종 군집 수, 일치율 포함 결과\n",
    "    \"\"\"\n",
    "    id_to_species = df.set_index('ID')['종'].to_dict()\n",
    "    similarity_results = []\n",
    "\n",
    "    for idx, row in nearby_df.iterrows():\n",
    "        base_id = df.loc[idx, 'ID']\n",
    "        base_species = id_to_species.get(base_id, None)\n",
    "        matches = 0\n",
    "        total = 0\n",
    "\n",
    "        for col in row.dropna().index:\n",
    "            neighbor_id = row[col]\n",
    "            neighbor_species = id_to_species.get(neighbor_id, None)\n",
    "            if neighbor_species is not None:\n",
    "                total += 1\n",
    "                if neighbor_species == base_species:\n",
    "                    matches += 1\n",
    "\n",
    "        similarity_results.append({\n",
    "            'ID': base_id,\n",
    "            '종': base_species,\n",
    "            'Nearby_Count': total,\n",
    "            'Same_Species_Count': matches,\n",
    "            'Same_Species_Rate': matches / total if total > 0 else None\n",
    "        })\n",
    "\n",
    "    return pd.DataFrame(similarity_results)"
   ]
  },
  {
   "cell_type": "code",
   "execution_count": 3,
   "id": "bce8a184",
   "metadata": {},
   "outputs": [
    {
     "name": "stdout",
     "output_type": "stream",
     "text": [
      "     ID      종  Nearby_Count  Same_Species_Count  Same_Species_Rate\n",
      "0  6441  아까시나무             0                   0                NaN\n",
      "1  5512  상수리나무             0                   0                NaN\n",
      "2   730    개다래             0                   0                NaN\n",
      "3  2536     다래            10                  10                1.0\n",
      "4   596    개다래             0                   0                NaN\n",
      "     ID     종  Nearby_Count  Same_Species_Count  Same_Species_Rate\n",
      "0  6846  애기똥풀             0                   0                NaN\n",
      "1  2650    다래             0                   0                NaN\n",
      "2  6867  애기똥풀             0                   0                NaN\n",
      "3   632   개다래             0                   0                NaN\n",
      "4  2547    다래             0                   0                NaN\n"
     ]
    }
   ],
   "source": [
    "df = pd.read_csv(\"../../data/final/4_Apis_cerana.csv\")\n",
    "nearby_df = pd.read_csv(\"../../data/processed/6_6km_nearby_cer.csv\")\n",
    "result = analyze_species_similarity(df, nearby_df)\n",
    "\n",
    "print(result.head())\n",
    "\n",
    "\n",
    "df1 = pd.read_csv(\"../../data/final/4_Apis_mellifera.csv\")\n",
    "nearby_df1 = pd.read_csv(\"../../data/processed/6_6km_nearby_mel.csv\")\n",
    "result1 = analyze_species_similarity(df1, nearby_df1)\n",
    "\n",
    "print(result1.head())"
   ]
  },
  {
   "cell_type": "code",
   "execution_count": 4,
   "id": "8664db75",
   "metadata": {},
   "outputs": [],
   "source": [
    "result.to_csv(\"../../data/final/7_nearby_similar_cer.csv\", index=False, encoding='utf-8-sig')\n",
    "result1.to_csv(\"../../data/final/7_nearby_similar_mel.csv\", index=False, encoding='utf-8-sig')"
   ]
  }
 ],
 "metadata": {
  "kernelspec": {
   "display_name": "bee_env",
   "language": "python",
   "name": "python3"
  },
  "language_info": {
   "codemirror_mode": {
    "name": "ipython",
    "version": 3
   },
   "file_extension": ".py",
   "mimetype": "text/x-python",
   "name": "python",
   "nbconvert_exporter": "python",
   "pygments_lexer": "ipython3",
   "version": "3.13.3"
  }
 },
 "nbformat": 4,
 "nbformat_minor": 5
}
